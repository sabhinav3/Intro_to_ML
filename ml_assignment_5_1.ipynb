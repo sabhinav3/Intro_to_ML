{
  "nbformat": 4,
  "nbformat_minor": 0,
  "metadata": {
    "colab": {
      "provenance": [],
      "authorship_tag": "ABX9TyMFYNRZv2M5tHg82BNp7H+0",
      "include_colab_link": true
    },
    "kernelspec": {
      "name": "python3",
      "display_name": "Python 3"
    },
    "language_info": {
      "name": "python"
    }
  },
  "cells": [
    {
      "cell_type": "markdown",
      "metadata": {
        "id": "view-in-github",
        "colab_type": "text"
      },
      "source": [
        "<a href=\"https://colab.research.google.com/github/sabhinav3/Intro_to_ML/blob/main/ml_assignment_5_1.ipynb\" target=\"_parent\"><img src=\"https://colab.research.google.com/assets/colab-badge.svg\" alt=\"Open In Colab\"/></a>"
      ]
    },
    {
      "cell_type": "code",
      "execution_count": 1,
      "metadata": {
        "colab": {
          "base_uri": "https://localhost:8080/"
        },
        "id": "YZ-IQ8zynSQh",
        "outputId": "5d178cf7-b925-43d7-9358-c6a9125368f8"
      },
      "outputs": [
        {
          "output_type": "stream",
          "name": "stdout",
          "text": [
            "\n",
            "Training with SGD optimizer and learning rate 0.1\n",
            "Optimizer: SGD, Learning Rate: 0.1, Epoch [0/5000], Loss: 7007.8633\n",
            "Optimizer: SGD, Learning Rate: 0.1, Epoch [500/5000], Loss: nan\n",
            "Optimizer: SGD, Learning Rate: 0.1, Epoch [1000/5000], Loss: nan\n",
            "Optimizer: SGD, Learning Rate: 0.1, Epoch [1500/5000], Loss: nan\n",
            "Optimizer: SGD, Learning Rate: 0.1, Epoch [2000/5000], Loss: nan\n",
            "Optimizer: SGD, Learning Rate: 0.1, Epoch [2500/5000], Loss: nan\n",
            "Optimizer: SGD, Learning Rate: 0.1, Epoch [3000/5000], Loss: nan\n",
            "Optimizer: SGD, Learning Rate: 0.1, Epoch [3500/5000], Loss: nan\n",
            "Optimizer: SGD, Learning Rate: 0.1, Epoch [4000/5000], Loss: nan\n",
            "Optimizer: SGD, Learning Rate: 0.1, Epoch [4500/5000], Loss: nan\n",
            "Optimizer: SGD, Learning Rate: 0.1, Epoch [5000/5000], Loss: nan\n",
            "\n",
            "Training with SGD optimizer and learning rate 0.01\n",
            "Optimizer: SGD, Learning Rate: 0.01, Epoch [0/5000], Loss: 12824.2217\n",
            "Optimizer: SGD, Learning Rate: 0.01, Epoch [500/5000], Loss: nan\n",
            "Optimizer: SGD, Learning Rate: 0.01, Epoch [1000/5000], Loss: nan\n",
            "Optimizer: SGD, Learning Rate: 0.01, Epoch [1500/5000], Loss: nan\n",
            "Optimizer: SGD, Learning Rate: 0.01, Epoch [2000/5000], Loss: nan\n",
            "Optimizer: SGD, Learning Rate: 0.01, Epoch [2500/5000], Loss: nan\n",
            "Optimizer: SGD, Learning Rate: 0.01, Epoch [3000/5000], Loss: nan\n",
            "Optimizer: SGD, Learning Rate: 0.01, Epoch [3500/5000], Loss: nan\n",
            "Optimizer: SGD, Learning Rate: 0.01, Epoch [4000/5000], Loss: nan\n",
            "Optimizer: SGD, Learning Rate: 0.01, Epoch [4500/5000], Loss: nan\n",
            "Optimizer: SGD, Learning Rate: 0.01, Epoch [5000/5000], Loss: nan\n",
            "\n",
            "Training with SGD optimizer and learning rate 0.001\n",
            "Optimizer: SGD, Learning Rate: 0.001, Epoch [0/5000], Loss: 10795.7686\n",
            "Optimizer: SGD, Learning Rate: 0.001, Epoch [500/5000], Loss: nan\n",
            "Optimizer: SGD, Learning Rate: 0.001, Epoch [1000/5000], Loss: nan\n",
            "Optimizer: SGD, Learning Rate: 0.001, Epoch [1500/5000], Loss: nan\n",
            "Optimizer: SGD, Learning Rate: 0.001, Epoch [2000/5000], Loss: nan\n",
            "Optimizer: SGD, Learning Rate: 0.001, Epoch [2500/5000], Loss: nan\n",
            "Optimizer: SGD, Learning Rate: 0.001, Epoch [3000/5000], Loss: nan\n",
            "Optimizer: SGD, Learning Rate: 0.001, Epoch [3500/5000], Loss: nan\n",
            "Optimizer: SGD, Learning Rate: 0.001, Epoch [4000/5000], Loss: nan\n",
            "Optimizer: SGD, Learning Rate: 0.001, Epoch [4500/5000], Loss: nan\n",
            "Optimizer: SGD, Learning Rate: 0.001, Epoch [5000/5000], Loss: nan\n",
            "\n",
            "Training with SGD optimizer and learning rate 0.0001\n",
            "Optimizer: SGD, Learning Rate: 0.0001, Epoch [0/5000], Loss: 2592.5334\n",
            "Optimizer: SGD, Learning Rate: 0.0001, Epoch [500/5000], Loss: 4.1517\n",
            "Optimizer: SGD, Learning Rate: 0.0001, Epoch [1000/5000], Loss: 3.9584\n",
            "Optimizer: SGD, Learning Rate: 0.0001, Epoch [1500/5000], Loss: 3.7808\n",
            "Optimizer: SGD, Learning Rate: 0.0001, Epoch [2000/5000], Loss: 3.6178\n",
            "Optimizer: SGD, Learning Rate: 0.0001, Epoch [2500/5000], Loss: 3.4680\n",
            "Optimizer: SGD, Learning Rate: 0.0001, Epoch [3000/5000], Loss: 3.3305\n",
            "Optimizer: SGD, Learning Rate: 0.0001, Epoch [3500/5000], Loss: 3.2041\n",
            "Optimizer: SGD, Learning Rate: 0.0001, Epoch [4000/5000], Loss: 3.0881\n",
            "Optimizer: SGD, Learning Rate: 0.0001, Epoch [4500/5000], Loss: 2.9816\n",
            "Optimizer: SGD, Learning Rate: 0.0001, Epoch [5000/5000], Loss: 2.8837\n",
            "\n",
            "Training with ADAM optimizer and learning rate 0.1\n",
            "Optimizer: ADAM, Learning Rate: 0.1, Epoch [0/5000], Loss: 5505.6011\n",
            "Optimizer: ADAM, Learning Rate: 0.1, Epoch [500/5000], Loss: 1.7874\n",
            "Optimizer: ADAM, Learning Rate: 0.1, Epoch [1000/5000], Loss: 1.7821\n",
            "Optimizer: ADAM, Learning Rate: 0.1, Epoch [1500/5000], Loss: 1.7821\n",
            "Optimizer: ADAM, Learning Rate: 0.1, Epoch [2000/5000], Loss: 1.7821\n",
            "Optimizer: ADAM, Learning Rate: 0.1, Epoch [2500/5000], Loss: 1.7821\n",
            "Optimizer: ADAM, Learning Rate: 0.1, Epoch [3000/5000], Loss: 1.7821\n",
            "Optimizer: ADAM, Learning Rate: 0.1, Epoch [3500/5000], Loss: 1.7821\n",
            "Optimizer: ADAM, Learning Rate: 0.1, Epoch [4000/5000], Loss: 1.7821\n",
            "Optimizer: ADAM, Learning Rate: 0.1, Epoch [4500/5000], Loss: 1.7821\n",
            "Optimizer: ADAM, Learning Rate: 0.1, Epoch [5000/5000], Loss: 1.7821\n",
            "\n",
            "Training with ADAM optimizer and learning rate 0.01\n",
            "Optimizer: ADAM, Learning Rate: 0.01, Epoch [0/5000], Loss: 9544.0459\n",
            "Optimizer: ADAM, Learning Rate: 0.01, Epoch [500/5000], Loss: 3.7666\n",
            "Optimizer: ADAM, Learning Rate: 0.01, Epoch [1000/5000], Loss: 2.1189\n",
            "Optimizer: ADAM, Learning Rate: 0.01, Epoch [1500/5000], Loss: 2.0358\n",
            "Optimizer: ADAM, Learning Rate: 0.01, Epoch [2000/5000], Loss: 1.9535\n",
            "Optimizer: ADAM, Learning Rate: 0.01, Epoch [2500/5000], Loss: 1.8835\n",
            "Optimizer: ADAM, Learning Rate: 0.01, Epoch [3000/5000], Loss: 1.8330\n",
            "Optimizer: ADAM, Learning Rate: 0.01, Epoch [3500/5000], Loss: 1.8028\n",
            "Optimizer: ADAM, Learning Rate: 0.01, Epoch [4000/5000], Loss: 1.7885\n",
            "Optimizer: ADAM, Learning Rate: 0.01, Epoch [4500/5000], Loss: 1.7835\n",
            "Optimizer: ADAM, Learning Rate: 0.01, Epoch [5000/5000], Loss: 1.7823\n",
            "\n",
            "Training with ADAM optimizer and learning rate 0.001\n",
            "Optimizer: ADAM, Learning Rate: 0.001, Epoch [0/5000], Loss: 8980.2988\n",
            "Optimizer: ADAM, Learning Rate: 0.001, Epoch [500/5000], Loss: 5472.1201\n",
            "Optimizer: ADAM, Learning Rate: 0.001, Epoch [1000/5000], Loss: 3099.0237\n",
            "Optimizer: ADAM, Learning Rate: 0.001, Epoch [1500/5000], Loss: 1590.0961\n",
            "Optimizer: ADAM, Learning Rate: 0.001, Epoch [2000/5000], Loss: 713.4186\n",
            "Optimizer: ADAM, Learning Rate: 0.001, Epoch [2500/5000], Loss: 266.8943\n",
            "Optimizer: ADAM, Learning Rate: 0.001, Epoch [3000/5000], Loss: 78.8901\n",
            "Optimizer: ADAM, Learning Rate: 0.001, Epoch [3500/5000], Loss: 18.4368\n",
            "Optimizer: ADAM, Learning Rate: 0.001, Epoch [4000/5000], Loss: 4.9890\n",
            "Optimizer: ADAM, Learning Rate: 0.001, Epoch [4500/5000], Loss: 3.1258\n",
            "Optimizer: ADAM, Learning Rate: 0.001, Epoch [5000/5000], Loss: 2.9465\n",
            "\n",
            "Training with ADAM optimizer and learning rate 0.0001\n",
            "Optimizer: ADAM, Learning Rate: 0.0001, Epoch [0/5000], Loss: 2828.8191\n",
            "Optimizer: ADAM, Learning Rate: 0.0001, Epoch [500/5000], Loss: 2602.1282\n",
            "Optimizer: ADAM, Learning Rate: 0.0001, Epoch [1000/5000], Loss: 2388.7217\n",
            "Optimizer: ADAM, Learning Rate: 0.0001, Epoch [1500/5000], Loss: 2187.5654\n",
            "Optimizer: ADAM, Learning Rate: 0.0001, Epoch [2000/5000], Loss: 1997.7919\n",
            "Optimizer: ADAM, Learning Rate: 0.0001, Epoch [2500/5000], Loss: 1818.6919\n",
            "Optimizer: ADAM, Learning Rate: 0.0001, Epoch [3000/5000], Loss: 1649.7061\n",
            "Optimizer: ADAM, Learning Rate: 0.0001, Epoch [3500/5000], Loss: 1490.3801\n",
            "Optimizer: ADAM, Learning Rate: 0.0001, Epoch [4000/5000], Loss: 1340.3723\n",
            "Optimizer: ADAM, Learning Rate: 0.0001, Epoch [4500/5000], Loss: 1199.4053\n",
            "Optimizer: ADAM, Learning Rate: 0.0001, Epoch [5000/5000], Loss: 1067.2692\n"
          ]
        }
      ],
      "source": [
        "import torch\n",
        "import torch.nn as nn\n",
        "import torch.optim as optim\n",
        "from torch.autograd import Variable\n",
        "import matplotlib.pyplot as plt\n",
        "import numpy as np\n",
        "\n",
        "# Generate input data\n",
        "t_u = np.random.rand(100, 1) * 10.0\n",
        "\n",
        "# Generate target variable using the given relationship: w2 * t_u^2 + w1 * t_u + b\n",
        "w2, w1, b = 2.0, 1.0, 1.0\n",
        "t_c = w2 * t_u**2 + w1 * t_u + b + np.random.randn(100, 1) * 1.0\n",
        "\n",
        "# Convert arrays to PyTorch tensors\n",
        "t_u_tensor = torch.from_numpy(t_u).float()\n",
        "t_c_tensor = torch.from_numpy(t_c).float()\n",
        "\n",
        "# Define the model\n",
        "class NonLinearModel(nn.Module):\n",
        "    def __init__(self):\n",
        "        super(NonLinearModel, self).__init__()\n",
        "        self.fc = nn.Linear(1, 1)\n",
        "\n",
        "    def forward(self, x):\n",
        "        return self.fc(x ** 2)\n",
        "\n",
        "# Training function for the nonlinear model\n",
        "def train_nonlinear_model(optimizer_name, learning_rate):\n",
        "    model = NonLinearModel()\n",
        "    criterion = nn.MSELoss()\n",
        "\n",
        "    if optimizer_name == 'SGD':\n",
        "        optimizer = optim.SGD(model.parameters(), lr=learning_rate)\n",
        "    elif optimizer_name == 'ADAM':\n",
        "        optimizer = optim.Adam(model.parameters(), lr=learning_rate)\n",
        "\n",
        "    # Training loop\n",
        "    for epoch in range(5001):\n",
        "        inputs = Variable(t_u_tensor)\n",
        "        targets = Variable(t_c_tensor)\n",
        "\n",
        "        # Forward pass\n",
        "        outputs = model(inputs)\n",
        "        loss = criterion(outputs, targets)\n",
        "\n",
        "        # Backward pass and optimization\n",
        "        optimizer.zero_grad()\n",
        "        loss.backward()\n",
        "        optimizer.step()\n",
        "\n",
        "        # Print loss every 500 epochs\n",
        "        if epoch % 500 == 0:\n",
        "            print(f'Optimizer: {optimizer_name}, Learning Rate: {learning_rate}, Epoch [{epoch}/5000], Loss: {loss.item():.4f}')\n",
        "\n",
        "    return loss.item(), model\n",
        "\n",
        "# Train the nonlinear model with different learning rates and optimizers\n",
        "learning_rates = [0.1, 0.01, 0.001, 0.0001]\n",
        "optimizers = ['SGD', 'ADAM']\n",
        "results_nonlinear = {}\n",
        "\n",
        "for optimizer_name in optimizers:\n",
        "    for lr in learning_rates:\n",
        "        print(f'\\nTraining with {optimizer_name} optimizer and learning rate {lr}')\n",
        "        loss, nonlinear_model = train_nonlinear_model(optimizer_name, lr)\n",
        "        results_nonlinear[(optimizer_name, lr)] = (loss, nonlinear_model)\n"
      ]
    },
    {
      "cell_type": "code",
      "source": [
        "# Filtering results with NaN loss values\n",
        "filtered_results_nonlinear = {key: value for key, value in results_nonlinear.items() if not np.isnan(value[0])}\n",
        "\n",
        "# Finding the best nonlinear model setup with the lowest loss after filtering NaN values\n",
        "best_setup_nonlinear_filtered = min(filtered_results_nonlinear, key=lambda k: filtered_results_nonlinear[k][0])\n",
        "best_loss_nonlinear_filtered, best_model_nonlinear_filtered = filtered_results_nonlinear[best_setup_nonlinear_filtered]\n"
      ],
      "metadata": {
        "id": "jRqHvTkDnmTF"
      },
      "execution_count": 2,
      "outputs": []
    },
    {
      "cell_type": "code",
      "source": [
        "# Linear model from lecture\n",
        "linear_model = nn.Linear(1, 1)\n",
        "linear_criterion = nn.MSELoss()\n",
        "linear_optimizer = optim.SGD(linear_model.parameters(), lr=0.01)\n",
        "\n",
        "# Training loop for linear model\n",
        "for epoch in range(5001):\n",
        "    inputs = Variable(t_u_tensor)\n",
        "    targets = Variable(t_c_tensor)\n",
        "\n",
        "    # Forward pass\n",
        "    outputs = linear_model(inputs)\n",
        "    linear_loss = linear_criterion(outputs, targets)\n",
        "\n",
        "    # Backward pass and optimization\n",
        "    linear_optimizer.zero_grad()\n",
        "    linear_loss.backward()\n",
        "    linear_optimizer.step()"
      ],
      "metadata": {
        "id": "NuThPoeEnq-o"
      },
      "execution_count": 3,
      "outputs": []
    },
    {
      "cell_type": "code",
      "source": [
        "# Assuming 't_u_plot' should be a range of values for plotting the model's fit\n",
        "t_u_plot = torch.linspace(torch.min(t_u_tensor), torch.max(t_u_tensor), 100).unsqueeze(1)\n",
        "\n",
        "# Plotting the data and best nonlinear model (filtered)\n",
        "plt.scatter(t_u_tensor.numpy(), t_c_tensor.numpy(), label='Actual Data')\n",
        "plt.plot(t_u_plot.numpy(), best_model_nonlinear_filtered(t_u_plot).detach().numpy(), label='Nonlinear Model')\n",
        "plt.plot(t_u_tensor.numpy(), linear_model(t_u_tensor).detach().numpy(), label='Linear Model', linestyle='dashed')\n",
        "plt.xlabel('Temperature (°C)')\n",
        "plt.ylabel('Target Variable')\n",
        "plt.title('Best Nonlinear Model Prediction (Filtered)')\n",
        "plt.legend()\n",
        "plt.show()"
      ],
      "metadata": {
        "colab": {
          "base_uri": "https://localhost:8080/",
          "height": 472
        },
        "id": "gq-CrQUwpSSh",
        "outputId": "7de232da-c192-4ab3-ba8e-4c30944939ef"
      },
      "execution_count": 5,
      "outputs": [
        {
          "output_type": "display_data",
          "data": {
            "text/plain": [
              "<Figure size 640x480 with 1 Axes>"
            ],
            "image/png": "[encoded data removed]"
          },
          "metadata": {}
        }
      ]
    },
    {
      "cell_type": "code",
      "source": [],
      "metadata": {
        "id": "EoZYwP0vo1tC"
      },
      "execution_count": 5,
      "outputs": []
    }
  ]
}